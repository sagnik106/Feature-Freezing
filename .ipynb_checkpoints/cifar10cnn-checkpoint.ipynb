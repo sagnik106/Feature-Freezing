{
 "cells": [
  {
   "cell_type": "code",
   "execution_count": 1,
   "metadata": {},
   "outputs": [
    {
     "name": "stderr",
     "output_type": "stream",
     "text": [
      "Using TensorFlow backend.\n",
      "/home/sagnik106/.local/lib/python3.6/site-packages/tensorflow/python/framework/dtypes.py:516: FutureWarning: Passing (type, 1) or '1type' as a synonym of type is deprecated; in a future version of numpy, it will be understood as (type, (1,)) / '(1,)type'.\n",
      "  _np_qint8 = np.dtype([(\"qint8\", np.int8, 1)])\n",
      "/home/sagnik106/.local/lib/python3.6/site-packages/tensorflow/python/framework/dtypes.py:517: FutureWarning: Passing (type, 1) or '1type' as a synonym of type is deprecated; in a future version of numpy, it will be understood as (type, (1,)) / '(1,)type'.\n",
      "  _np_quint8 = np.dtype([(\"quint8\", np.uint8, 1)])\n",
      "/home/sagnik106/.local/lib/python3.6/site-packages/tensorflow/python/framework/dtypes.py:518: FutureWarning: Passing (type, 1) or '1type' as a synonym of type is deprecated; in a future version of numpy, it will be understood as (type, (1,)) / '(1,)type'.\n",
      "  _np_qint16 = np.dtype([(\"qint16\", np.int16, 1)])\n",
      "/home/sagnik106/.local/lib/python3.6/site-packages/tensorflow/python/framework/dtypes.py:519: FutureWarning: Passing (type, 1) or '1type' as a synonym of type is deprecated; in a future version of numpy, it will be understood as (type, (1,)) / '(1,)type'.\n",
      "  _np_quint16 = np.dtype([(\"quint16\", np.uint16, 1)])\n",
      "/home/sagnik106/.local/lib/python3.6/site-packages/tensorflow/python/framework/dtypes.py:520: FutureWarning: Passing (type, 1) or '1type' as a synonym of type is deprecated; in a future version of numpy, it will be understood as (type, (1,)) / '(1,)type'.\n",
      "  _np_qint32 = np.dtype([(\"qint32\", np.int32, 1)])\n",
      "/home/sagnik106/.local/lib/python3.6/site-packages/tensorflow/python/framework/dtypes.py:525: FutureWarning: Passing (type, 1) or '1type' as a synonym of type is deprecated; in a future version of numpy, it will be understood as (type, (1,)) / '(1,)type'.\n",
      "  np_resource = np.dtype([(\"resource\", np.ubyte, 1)])\n",
      "/home/sagnik106/.local/lib/python3.6/site-packages/tensorboard/compat/tensorflow_stub/dtypes.py:541: FutureWarning: Passing (type, 1) or '1type' as a synonym of type is deprecated; in a future version of numpy, it will be understood as (type, (1,)) / '(1,)type'.\n",
      "  _np_qint8 = np.dtype([(\"qint8\", np.int8, 1)])\n",
      "/home/sagnik106/.local/lib/python3.6/site-packages/tensorboard/compat/tensorflow_stub/dtypes.py:542: FutureWarning: Passing (type, 1) or '1type' as a synonym of type is deprecated; in a future version of numpy, it will be understood as (type, (1,)) / '(1,)type'.\n",
      "  _np_quint8 = np.dtype([(\"quint8\", np.uint8, 1)])\n",
      "/home/sagnik106/.local/lib/python3.6/site-packages/tensorboard/compat/tensorflow_stub/dtypes.py:543: FutureWarning: Passing (type, 1) or '1type' as a synonym of type is deprecated; in a future version of numpy, it will be understood as (type, (1,)) / '(1,)type'.\n",
      "  _np_qint16 = np.dtype([(\"qint16\", np.int16, 1)])\n",
      "/home/sagnik106/.local/lib/python3.6/site-packages/tensorboard/compat/tensorflow_stub/dtypes.py:544: FutureWarning: Passing (type, 1) or '1type' as a synonym of type is deprecated; in a future version of numpy, it will be understood as (type, (1,)) / '(1,)type'.\n",
      "  _np_quint16 = np.dtype([(\"quint16\", np.uint16, 1)])\n",
      "/home/sagnik106/.local/lib/python3.6/site-packages/tensorboard/compat/tensorflow_stub/dtypes.py:545: FutureWarning: Passing (type, 1) or '1type' as a synonym of type is deprecated; in a future version of numpy, it will be understood as (type, (1,)) / '(1,)type'.\n",
      "  _np_qint32 = np.dtype([(\"qint32\", np.int32, 1)])\n",
      "/home/sagnik106/.local/lib/python3.6/site-packages/tensorboard/compat/tensorflow_stub/dtypes.py:550: FutureWarning: Passing (type, 1) or '1type' as a synonym of type is deprecated; in a future version of numpy, it will be understood as (type, (1,)) / '(1,)type'.\n",
      "  np_resource = np.dtype([(\"resource\", np.ubyte, 1)])\n"
     ]
    }
   ],
   "source": [
    "from __future__ import print_function\n",
    "import keras\n",
    "from keras.datasets import cifar10\n",
    "from keras.preprocessing.image import ImageDataGenerator\n",
    "from keras.models import Model\n",
    "from keras.layers import Dense, Dropout, Activation, Flatten, Input\n",
    "from keras.layers import Conv2D, MaxPooling2D\n",
    "import os\n",
    "from keras.callbacks import TensorBoard\n",
    "import time\n",
    "import tensorflow as tf"
   ]
  },
  {
   "cell_type": "code",
   "execution_count": 2,
   "metadata": {},
   "outputs": [],
   "source": [
    "batch_size = 32\n",
    "num_classes = 10\n",
    "total_epochs=20\n",
    "num_predictions = 20"
   ]
  },
  {
   "cell_type": "code",
   "execution_count": 3,
   "metadata": {},
   "outputs": [
    {
     "name": "stdout",
     "output_type": "stream",
     "text": [
      "x_train shape: (50000, 32, 32, 3)\n",
      "50000 train samples\n",
      "10000 test samples\n"
     ]
    }
   ],
   "source": [
    "# The data, split between train and test sets:\n",
    "(x_train, y_train), (x_test, y_test) = cifar10.load_data()\n",
    "print('x_train shape:', x_train.shape)\n",
    "print(x_train.shape[0], 'train samples')\n",
    "print(x_test.shape[0], 'test samples')"
   ]
  },
  {
   "cell_type": "code",
   "execution_count": 4,
   "metadata": {},
   "outputs": [],
   "source": [
    "# Convert class vectors to binary class matrices.\n",
    "y_train = keras.utils.to_categorical(y_train, num_classes)\n",
    "y_test = keras.utils.to_categorical(y_test, num_classes)"
   ]
  },
  {
   "cell_type": "code",
   "execution_count": 5,
   "metadata": {},
   "outputs": [],
   "source": [
    "def conv_block(inputs):\n",
    "    x=Conv2D(32, (3, 3), padding='same')(inputs)\n",
    "    x=Activation('relu')(x)\n",
    "    x=Conv2D(32, (3, 3))(x)\n",
    "    x=Activation('relu')(x)\n",
    "    x=MaxPooling2D(pool_size=(2, 2))(x)\n",
    "    x=Dropout(0.25)(x)\n",
    "\n",
    "    x=Conv2D(64, (3, 3), padding='same')(x)\n",
    "    x=Activation('relu')(x)\n",
    "    x=Conv2D(64, (3, 3))(x)\n",
    "    x=Activation('relu')(x)\n",
    "    x=MaxPooling2D(pool_size=(2, 2))(x)\n",
    "    x=Dropout(0.25)(x)\n",
    "    conv=Model(inputs, x)\n",
    "    return conv"
   ]
  },
  {
   "cell_type": "code",
   "execution_count": 6,
   "metadata": {},
   "outputs": [],
   "source": [
    "def nn_block(inputs):\n",
    "    x=Flatten()(inputs)\n",
    "    x=Dense(512)(x)\n",
    "    x=Activation('relu')(x)\n",
    "    x=Dropout(0.5)(x)\n",
    "    x=Dense(num_classes)(x)\n",
    "    x=Activation('softmax')(x)\n",
    "    nn=Model(inputs,x)\n",
    "    return nn"
   ]
  },
  {
   "cell_type": "code",
   "execution_count": 7,
   "metadata": {},
   "outputs": [],
   "source": [
    "def model_maker():\n",
    "    a=x_train.shape[1]\n",
    "    b=x_train.shape[2]\n",
    "    a=((a-2)//2)-2\n",
    "    b=((b-2)//2)-2\n",
    "    nshape=(a//2,b//2,64)\n",
    "    inputc=Input(shape=x_train.shape[1:])\n",
    "    inputn=Input(shape=nshape)\n",
    "    con=conv_block(inputc)\n",
    "    nn=nn_block(inputn)\n",
    "    model=Model(inputc,nn(con(inputc)))\n",
    "    con.trainable=False\n",
    "    frozen_model=Model(inputc,nn(con(inputc)))\n",
    "    print(con.summary())\n",
    "    print(nn.summary())\n",
    "    print(model.summary())\n",
    "    print(frozen_model.summary())\n",
    "    return model, frozen_model"
   ]
  },
  {
   "cell_type": "code",
   "execution_count": 8,
   "metadata": {},
   "outputs": [
    {
     "name": "stdout",
     "output_type": "stream",
     "text": [
      "WARNING:tensorflow:From /home/sagnik106/.local/lib/python3.6/site-packages/keras/backend/tensorflow_backend.py:4070: The name tf.nn.max_pool is deprecated. Please use tf.nn.max_pool2d instead.\n",
      "\n",
      "Model: \"model_1\"\n",
      "_________________________________________________________________\n",
      "Layer (type)                 Output Shape              Param #   \n",
      "=================================================================\n",
      "input_1 (InputLayer)         (None, 32, 32, 3)         0         \n",
      "_________________________________________________________________\n",
      "conv2d_1 (Conv2D)            (None, 32, 32, 32)        896       \n",
      "_________________________________________________________________\n",
      "activation_1 (Activation)    (None, 32, 32, 32)        0         \n",
      "_________________________________________________________________\n",
      "conv2d_2 (Conv2D)            (None, 30, 30, 32)        9248      \n",
      "_________________________________________________________________\n",
      "activation_2 (Activation)    (None, 30, 30, 32)        0         \n",
      "_________________________________________________________________\n",
      "max_pooling2d_1 (MaxPooling2 (None, 15, 15, 32)        0         \n",
      "_________________________________________________________________\n",
      "dropout_1 (Dropout)          (None, 15, 15, 32)        0         \n",
      "_________________________________________________________________\n",
      "conv2d_3 (Conv2D)            (None, 15, 15, 64)        18496     \n",
      "_________________________________________________________________\n",
      "activation_3 (Activation)    (None, 15, 15, 64)        0         \n",
      "_________________________________________________________________\n",
      "conv2d_4 (Conv2D)            (None, 13, 13, 64)        36928     \n",
      "_________________________________________________________________\n",
      "activation_4 (Activation)    (None, 13, 13, 64)        0         \n",
      "_________________________________________________________________\n",
      "max_pooling2d_2 (MaxPooling2 (None, 6, 6, 64)          0         \n",
      "_________________________________________________________________\n",
      "dropout_2 (Dropout)          (None, 6, 6, 64)          0         \n",
      "=================================================================\n",
      "Total params: 65,568\n",
      "Trainable params: 0\n",
      "Non-trainable params: 65,568\n",
      "_________________________________________________________________\n",
      "None\n",
      "Model: \"model_2\"\n",
      "_________________________________________________________________\n",
      "Layer (type)                 Output Shape              Param #   \n",
      "=================================================================\n",
      "input_2 (InputLayer)         (None, 6, 6, 64)          0         \n",
      "_________________________________________________________________\n",
      "flatten_1 (Flatten)          (None, 2304)              0         \n",
      "_________________________________________________________________\n",
      "dense_1 (Dense)              (None, 512)               1180160   \n",
      "_________________________________________________________________\n",
      "activation_5 (Activation)    (None, 512)               0         \n",
      "_________________________________________________________________\n",
      "dropout_3 (Dropout)          (None, 512)               0         \n",
      "_________________________________________________________________\n",
      "dense_2 (Dense)              (None, 10)                5130      \n",
      "_________________________________________________________________\n",
      "activation_6 (Activation)    (None, 10)                0         \n",
      "=================================================================\n",
      "Total params: 1,185,290\n",
      "Trainable params: 1,185,290\n",
      "Non-trainable params: 0\n",
      "_________________________________________________________________\n",
      "None\n",
      "Model: \"model_3\"\n",
      "_________________________________________________________________\n",
      "Layer (type)                 Output Shape              Param #   \n",
      "=================================================================\n",
      "input_1 (InputLayer)         (None, 32, 32, 3)         0         \n",
      "_________________________________________________________________\n",
      "model_1 (Model)              (None, 6, 6, 64)          65568     \n",
      "_________________________________________________________________\n",
      "model_2 (Model)              (None, 10)                1185290   \n",
      "=================================================================\n",
      "Total params: 1,250,858\n",
      "Trainable params: 1,185,290\n",
      "Non-trainable params: 65,568\n",
      "_________________________________________________________________\n",
      "None\n",
      "Model: \"model_4\"\n",
      "_________________________________________________________________\n",
      "Layer (type)                 Output Shape              Param #   \n",
      "=================================================================\n",
      "input_1 (InputLayer)         (None, 32, 32, 3)         0         \n",
      "_________________________________________________________________\n",
      "model_1 (Model)              (None, 6, 6, 64)          65568     \n",
      "_________________________________________________________________\n",
      "model_2 (Model)              (None, 10)                1185290   \n",
      "=================================================================\n",
      "Total params: 1,250,858\n",
      "Trainable params: 1,185,290\n",
      "Non-trainable params: 65,568\n",
      "_________________________________________________________________\n",
      "None\n"
     ]
    }
   ],
   "source": [
    "model,f_model=model_maker()"
   ]
  },
  {
   "cell_type": "code",
   "execution_count": 9,
   "metadata": {},
   "outputs": [],
   "source": [
    "# initiate RMSprop optimizer\n",
    "opt = keras.optimizers.RMSprop(learning_rate=0.0001, decay=1e-6)\n",
    "\n",
    "# Let's train the model using RMSprop\n",
    "model.name=\"Unfrozen Weights\"\n",
    "model.compile(loss='categorical_crossentropy', optimizer=opt, metrics=['accuracy'])\n",
    "f_model.name=\"Frozen Weights\"\n",
    "f_model.compile(loss='categorical_crossentropy', optimizer=opt, metrics=['accuracy'])"
   ]
  },
  {
   "cell_type": "code",
   "execution_count": 10,
   "metadata": {},
   "outputs": [
    {
     "name": "stdout",
     "output_type": "stream",
     "text": [
      "WARNING:tensorflow:From /home/sagnik106/.local/lib/python3.6/site-packages/keras/callbacks/tensorboard_v1.py:200: The name tf.summary.merge_all is deprecated. Please use tf.compat.v1.summary.merge_all instead.\n",
      "\n",
      "WARNING:tensorflow:From /home/sagnik106/.local/lib/python3.6/site-packages/keras/callbacks/tensorboard_v1.py:203: The name tf.summary.FileWriter is deprecated. Please use tf.compat.v1.summary.FileWriter instead.\n",
      "\n"
     ]
    }
   ],
   "source": [
    "tensorboard = TensorBoard(log_dir = \"logs/{}\".format(time.time()))\n",
    "tensorboard.set_model(model)\n",
    "tensorboard.set_model(f_model)"
   ]
  },
  {
   "cell_type": "code",
   "execution_count": 11,
   "metadata": {},
   "outputs": [],
   "source": [
    "x_train = x_train.astype('float32')\n",
    "x_test = x_test.astype('float32')\n",
    "x_train /= 255\n",
    "x_test /= 255"
   ]
  },
  {
   "cell_type": "code",
   "execution_count": 12,
   "metadata": {},
   "outputs": [
    {
     "name": "stdout",
     "output_type": "stream",
     "text": [
      "Unfrozen Model\n",
      "WARNING:tensorflow:From /home/sagnik106/.local/lib/python3.6/site-packages/keras/backend/tensorflow_backend.py:422: The name tf.global_variables is deprecated. Please use tf.compat.v1.global_variables instead.\n",
      "\n",
      "Train on 50000 samples, validate on 10000 samples\n",
      "Epoch 1/16\n",
      "50000/50000 [==============================] - 26s 523us/step - loss: 2.1881 - accuracy: 0.2231 - val_loss: 2.1163 - val_accuracy: 0.2903\n",
      "WARNING:tensorflow:From /home/sagnik106/.local/lib/python3.6/site-packages/keras/callbacks/tensorboard_v1.py:343: The name tf.Summary is deprecated. Please use tf.compat.v1.Summary instead.\n",
      "\n",
      "Epoch 2/16\n",
      "50000/50000 [==============================] - 27s 535us/step - loss: 2.0079 - accuracy: 0.2941 - val_loss: 2.0042 - val_accuracy: 0.3019\n",
      "Epoch 3/16\n",
      "50000/50000 [==============================] - 27s 544us/step - loss: 1.9211 - accuracy: 0.3226 - val_loss: 1.9727 - val_accuracy: 0.2782\n",
      "Epoch 4/16\n",
      "50000/50000 [==============================] - 27s 549us/step - loss: 1.8706 - accuracy: 0.3366 - val_loss: 1.9495 - val_accuracy: 0.2842\n",
      "Epoch 5/16\n",
      "50000/50000 [==============================] - 28s 561us/step - loss: 1.8384 - accuracy: 0.3498 - val_loss: 1.9424 - val_accuracy: 0.2843\n",
      "Epoch 6/16\n",
      "50000/50000 [==============================] - 29s 571us/step - loss: 1.8088 - accuracy: 0.3584 - val_loss: 1.9356 - val_accuracy: 0.2840\n",
      "Epoch 7/16\n",
      "50000/50000 [==============================] - 29s 580us/step - loss: 1.7908 - accuracy: 0.3627 - val_loss: 1.9500 - val_accuracy: 0.2823\n",
      "Epoch 8/16\n",
      "50000/50000 [==============================] - 29s 587us/step - loss: 1.7735 - accuracy: 0.3715 - val_loss: 1.9199 - val_accuracy: 0.2981\n",
      "Epoch 9/16\n",
      "50000/50000 [==============================] - 29s 584us/step - loss: 1.7603 - accuracy: 0.3738 - val_loss: 1.9142 - val_accuracy: 0.2972\n",
      "Epoch 10/16\n",
      "50000/50000 [==============================] - 30s 596us/step - loss: 1.7479 - accuracy: 0.3787 - val_loss: 1.9717 - val_accuracy: 0.2795\n",
      "Epoch 11/16\n",
      "50000/50000 [==============================] - 30s 595us/step - loss: 1.7337 - accuracy: 0.3820 - val_loss: 1.9572 - val_accuracy: 0.2836\n",
      "Epoch 12/16\n",
      "50000/50000 [==============================] - 30s 591us/step - loss: 1.7248 - accuracy: 0.3869 - val_loss: 1.9522 - val_accuracy: 0.2886\n",
      "Epoch 13/16\n",
      "50000/50000 [==============================] - 30s 599us/step - loss: 1.7153 - accuracy: 0.3888 - val_loss: 1.9697 - val_accuracy: 0.2880\n",
      "Epoch 14/16\n",
      "50000/50000 [==============================] - 30s 597us/step - loss: 1.7124 - accuracy: 0.3895 - val_loss: 1.9495 - val_accuracy: 0.2860\n",
      "Epoch 15/16\n",
      "50000/50000 [==============================] - 30s 596us/step - loss: 1.7041 - accuracy: 0.3954 - val_loss: 1.9715 - val_accuracy: 0.2795\n",
      "Epoch 16/16\n",
      "50000/50000 [==============================] - 30s 606us/step - loss: 1.6973 - accuracy: 0.3958 - val_loss: 2.0023 - val_accuracy: 0.2749\n",
      "\n",
      "\n",
      "Frozen Model\n",
      "Train on 50000 samples, validate on 10000 samples\n",
      "Epoch 1/4\n",
      "50000/50000 [==============================] - 31s 616us/step - loss: 1.6912 - accuracy: 0.3944 - val_loss: 1.9885 - val_accuracy: 0.2790\n",
      "Epoch 2/4\n",
      "50000/50000 [==============================] - 31s 614us/step - loss: 1.6870 - accuracy: 0.3975 - val_loss: 1.9988 - val_accuracy: 0.2694\n",
      "Epoch 3/4\n",
      "50000/50000 [==============================] - 31s 616us/step - loss: 1.6785 - accuracy: 0.4016 - val_loss: 2.0046 - val_accuracy: 0.2743\n",
      "Epoch 4/4\n",
      "50000/50000 [==============================] - 32s 643us/step - loss: 1.6765 - accuracy: 0.4013 - val_loss: 2.0039 - val_accuracy: 0.2801\n"
     ]
    }
   ],
   "source": [
    "with tf.device('/gpu:0'):\n",
    "    print(\"Unfrozen Model\")\n",
    "    history_model=model.fit(x_train, y_train, batch_size=batch_size, epochs=(8*total_epochs)//10, verbose=1, validation_data=(x_test, y_test), shuffle=True, callbacks=[tensorboard])\n",
    "    print(\"\\n\\nFrozen Model\")\n",
    "    history_model_f=f_model.fit(x_train, y_train, batch_size=batch_size, epochs=(2*total_epochs)//10, verbose=1, validation_data=(x_test, y_test), shuffle=True, callbacks=[tensorboard])"
   ]
  },
  {
   "cell_type": "code",
   "execution_count": null,
   "metadata": {},
   "outputs": [],
   "source": []
  }
 ],
 "metadata": {
  "kernelspec": {
   "display_name": "Python 3",
   "language": "python",
   "name": "python3"
  },
  "language_info": {
   "codemirror_mode": {
    "name": "ipython",
    "version": 3
   },
   "file_extension": ".py",
   "mimetype": "text/x-python",
   "name": "python",
   "nbconvert_exporter": "python",
   "pygments_lexer": "ipython3",
   "version": "3.6.9"
  }
 },
 "nbformat": 4,
 "nbformat_minor": 2
}
